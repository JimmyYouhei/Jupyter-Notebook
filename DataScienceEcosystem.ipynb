{
 "cells": [
  {
   "cell_type": "markdown",
   "source": [
    "<h1>Data Science Tools and Ecosystem<h1>"
   ],
   "metadata": {
    "collapsed": false
   },
   "id": "304517a2e3c8a7f"
  },
  {
   "cell_type": "markdown",
   "source": [
    "In this notebook, Data Science Tools and Ecosystem are summarized."
   ],
   "metadata": {
    "collapsed": false
   },
   "id": "6bc85279322a1c97"
  },
  {
   "cell_type": "markdown",
   "source": [
    "<b>Objectives: </b>\n",
    "<ul>\n",
    "    <li>List popular language</li>\n",
    "    <li>List commonly used libraries</li>\n",
    "    <li>List open source Data Science Tools</li>\n",
    "</ul>"
   ],
   "metadata": {
    "collapsed": false
   },
   "id": "d26b61abdce50a05"
  },
  {
   "cell_type": "markdown",
   "source": [
    "Some of the popular languages that Data Scientists use are:\n",
    "<ol>\n",
    "    <li>Python</li>\n",
    "    <li>R</li>\n",
    "    <li>Scala</li>\n",
    "    <li>Julia</li>\n",
    "</ol>"
   ],
   "metadata": {
    "collapsed": false
   },
   "id": "aa52cfc27ea53f7f"
  },
  {
   "cell_type": "markdown",
   "source": [
    "Some of the commonly used libraries used by Data Scientists include:\n",
    "<ol>\n",
    "    <li>NumPy</li>\n",
    "    <li>Pandas</li>\n",
    "    <li>Matplotlib</li>\n",
    "</ol>"
   ],
   "metadata": {
    "collapsed": false
   },
   "id": "97f9b9dde5364dc"
  },
  {
   "cell_type": "markdown",
   "source": [
    "<table> \n",
    "    <tr>\n",
    "        <th>Data Science Tools</th>\n",
    "    </tr>\n",
    "    <tr>\n",
    "        RStudio\n",
    "    </tr>\n",
    "    <tr>\n",
    "        Jupyter Notebook\n",
    "    </tr>\n",
    "    <tr>\n",
    "        TensorFlow\n",
    "    </tr>\n",
    "</table>"
   ],
   "metadata": {
    "collapsed": false
   },
   "id": "80c67f99a349c1d2"
  },
  {
   "cell_type": "markdown",
   "source": [
    "<h3>Below are a few examples of evaluating arithmetic expressions in Python</h3>"
   ],
   "metadata": {
    "collapsed": false
   },
   "id": "9411d1129211034e"
  },
  {
   "cell_type": "code",
   "execution_count": 1,
   "outputs": [
    {
     "data": {
      "text/plain": "17"
     },
     "execution_count": 1,
     "metadata": {},
     "output_type": "execute_result"
    }
   ],
   "source": [
    "# This is a simple arithmetic expression\n",
    "(3*4)+5"
   ],
   "metadata": {
    "collapsed": false,
    "ExecuteTime": {
     "end_time": "2023-09-08T07:04:19.531386800Z",
     "start_time": "2023-09-08T07:04:19.511821800Z"
    }
   },
   "id": "8bf6997b9e57f416"
  },
  {
   "cell_type": "code",
   "execution_count": 2,
   "outputs": [
    {
     "data": {
      "text/plain": "3.3333333333333335"
     },
     "execution_count": 2,
     "metadata": {},
     "output_type": "execute_result"
    }
   ],
   "source": [
    "# convert 200 minutes to hours:\n",
    "200/60"
   ],
   "metadata": {
    "collapsed": false,
    "ExecuteTime": {
     "end_time": "2023-09-08T07:15:20.292566700Z",
     "start_time": "2023-09-08T07:15:20.269974900Z"
    }
   },
   "id": "9134ff602dceea0c"
  },
  {
   "cell_type": "markdown",
   "source": [
    "<h2>Author</h2>\n",
    "Quan Nguyen"
   ],
   "metadata": {
    "collapsed": false
   },
   "id": "219fbbaa960897af"
  },
  {
   "cell_type": "markdown",
   "source": [],
   "metadata": {
    "collapsed": false
   },
   "id": "aaad9c506a384695"
  }
 ],
 "metadata": {
  "kernelspec": {
   "display_name": "Python 3",
   "language": "python",
   "name": "python3"
  },
  "language_info": {
   "codemirror_mode": {
    "name": "ipython",
    "version": 2
   },
   "file_extension": ".py",
   "mimetype": "text/x-python",
   "name": "python",
   "nbconvert_exporter": "python",
   "pygments_lexer": "ipython2",
   "version": "2.7.6"
  }
 },
 "nbformat": 4,
 "nbformat_minor": 5
}
